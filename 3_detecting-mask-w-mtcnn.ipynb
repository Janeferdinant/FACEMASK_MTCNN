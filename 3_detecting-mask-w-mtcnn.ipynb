{
 "cells": [
  {
   "cell_type": "markdown",
   "metadata": {},
   "source": [
    "### Importing Libraries"
   ]
  },
  {
   "cell_type": "code",
   "execution_count": 1,
   "metadata": {},
   "outputs": [],
   "source": [
    "import time\n",
    "import pickle\n",
    "import numpy as np\n",
    "import cv2\n",
    "from mtcnn.mtcnn import MTCNN\n",
    "from tensorflow.keras.models import load_model\n",
    "from datetime import datetime\n",
    "from datetime import date\n",
    "import os\n",
    "import pandas as pd"
   ]
  },
  {
   "cell_type": "markdown",
   "metadata": {},
   "source": [
    "### Load model"
   ]
  },
  {
   "cell_type": "code",
   "execution_count": 2,
   "metadata": {},
   "outputs": [],
   "source": [
    "model = load_model('data/inceptionV3-model.h5')"
   ]
  },
  {
   "cell_type": "markdown",
   "metadata": {},
   "source": [
    "### Detection from webcam"
   ]
  },
  {
   "cell_type": "code",
   "execution_count": 3,
   "metadata": {},
   "outputs": [
    {
     "name": "stdout",
     "output_type": "stream",
     "text": [
      "{0: 'without_mask', 1: 'with_mask', 2: 'mask_weared_incorrect'}\n"
     ]
    }
   ],
   "source": [
    "with open('data/category2label.pkl', 'rb') as pf:\n",
    "    category2label = pickle.load(pf)\n",
    "\n",
    "print(category2label)\n",
    "\n",
    "img_size = (100, 100)\n",
    "colors = {0: (0, 0, 255), 1: (0, 255, 0), 2: (0, 255, 255)}"
   ]
  },
  {
   "cell_type": "code",
   "execution_count": null,
   "metadata": {
    "scrolled": true
   },
   "outputs": [
    {
     "name": "stdout",
     "output_type": "stream",
     "text": [
      "Person Number        Date        Time        Mask Condition\n",
      "    1     27/02/2022     15:08:15     without_mask: 0.94\n",
      "    2     27/02/2022     15:08:17     without_mask: 1.00\n",
      "    3     27/02/2022     15:08:17     without_mask: 1.00\n",
      "    4     27/02/2022     15:08:18     without_mask: 0.99\n",
      "    5     27/02/2022     15:08:19     without_mask: 0.98\n",
      "    6     27/02/2022     15:08:19     without_mask: 1.00\n",
      "    7     27/02/2022     15:08:20     without_mask: 1.00\n",
      "    8     27/02/2022     15:08:21     without_mask: 1.00\n",
      "    9     27/02/2022     15:08:21     with_mask: 0.87\n",
      "    10     27/02/2022     15:08:22     without_mask: 0.60\n",
      "    11     27/02/2022     15:08:22     without_mask: 1.00\n",
      "    12     27/02/2022     15:08:23     without_mask: 1.00\n",
      "    13     27/02/2022     15:08:24     without_mask: 1.00\n",
      "    14     27/02/2022     15:08:25     without_mask: 1.00\n",
      "    15     27/02/2022     15:08:25     without_mask: 1.00\n",
      "    16     27/02/2022     15:08:26     without_mask: 1.00\n",
      "    17     27/02/2022     15:08:27     without_mask: 1.00\n",
      "    18     27/02/2022     15:08:27     without_mask: 1.00\n",
      "    19     27/02/2022     15:08:28     without_mask: 1.00\n",
      "    20     27/02/2022     15:08:28     without_mask: 1.00\n",
      "    21     27/02/2022     15:08:29     without_mask: 1.00\n"
     ]
    }
   ],
   "source": [
    "# Create detector with default weights\n",
    "detector = MTCNN()\n",
    "\n",
    "# Video from webcam\n",
    "cap = cv2.VideoCapture(0)\n",
    "\n",
    "start_time = time.time()\n",
    "frame_count = 0\n",
    "count=1\n",
    "print('Person Number       ', 'Date       ','Time       ','Mask Condition')\n",
    "while cap.isOpened():\n",
    "    ret, frame = cap.read()  \n",
    "    \n",
    "    if not ret:\n",
    "        break\n",
    "    \n",
    "    frame_count += 1     # for fps\n",
    "    frame = cv2.flip(frame, 1)       # Mirror the image\n",
    "    rgb = cv2.cvtColor(frame, cv2.COLOR_BGR2RGB)\n",
    "    faces = detector.detect_faces(rgb)\n",
    "    today = date.today()\n",
    "    d1 = today.strftime(\"%d/%m/%Y\")\n",
    "    now = datetime.now()\n",
    "    t1 = now.strftime(\"%H:%M:%S\")\n",
    "    \n",
    "    for face in faces:\n",
    "        try:\n",
    "            x, y, w, h = face['box'] \n",
    "            # Predict\n",
    "            roi =  rgb[y : y+h, x : x+w]\n",
    "            data = cv2.resize(roi, img_size)\n",
    "            data = data / 255.\n",
    "            data = data.reshape((1,) + data.shape)\n",
    "            scores = model.predict(data)\n",
    "            target = np.argmax(scores, axis=1)[0]\n",
    "            # Draw bounding boxes\n",
    "            cv2.rectangle(img=frame, pt1=(x, y), pt2=(x+w, y+h), color=colors[target], thickness=2)\n",
    "            text = \"{}: {:.2f}\".format(category2label[target], scores[0][target])\n",
    "            cv2.putText(frame, text, (x, y-5), cv2.FONT_HERSHEY_SIMPLEX, 0.6, (255, 255, 255), 1)\n",
    "            #print(\"\\nText \",text)\n",
    "            print(\"   \",count, \"   \", d1, \"   \", t1, \"   \", text)\n",
    "            count = count+1\n",
    "       \n",
    "            \n",
    "        except Exception as e:\n",
    "            print(e)\n",
    "            print(roi.shape)\n",
    "\n",
    "    elapsed_time = time.time() - start_time\n",
    "    fps = frame_count / elapsed_time\n",
    "    cv2.putText(img=frame, text='FPS : ' + str(round(fps, 2)), org=(10, 20), fontFace=cv2.FONT_HERSHEY_SIMPLEX, fontScale=0.5, color=(255,255,255), thickness=1)\n",
    "\n",
    "    # Show the frame\n",
    "    cv2.imshow('Face Mask Detection', frame)\n",
    "\n",
    "    if cv2.waitKey(1) & 0xFF == 27:\n",
    "        break\n",
    "\n",
    "cap.release()\n",
    "cv2.destroyAllWindows()"
   ]
  },
  {
   "cell_type": "markdown",
   "metadata": {},
   "source": [
    "Average <b>FPS</b> is about 1.3."
   ]
  }
 ],
 "metadata": {
  "kernelspec": {
   "display_name": "Python 3 (ipykernel)",
   "language": "python",
   "name": "python3"
  },
  "language_info": {
   "codemirror_mode": {
    "name": "ipython",
    "version": 3
   },
   "file_extension": ".py",
   "mimetype": "text/x-python",
   "name": "python",
   "nbconvert_exporter": "python",
   "pygments_lexer": "ipython3",
   "version": "3.9.7"
  }
 },
 "nbformat": 4,
 "nbformat_minor": 4
}
